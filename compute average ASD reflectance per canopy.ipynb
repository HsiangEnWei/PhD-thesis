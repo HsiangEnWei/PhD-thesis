{
 "cells": [
  {
   "cell_type": "code",
   "execution_count": null,
   "metadata": {},
   "outputs": [],
   "source": [
    "import pandas as pd\n",
    "import xlwings as xw\n",
    "import numpy as np\n",
    "import os\n",
    "from pathlib import Path"
   ]
  },
  {
   "cell_type": "code",
   "execution_count": null,
   "metadata": {},
   "outputs": [],
   "source": [
    "#convert txt outputs from ViewSpec Pro to transposed csv files\n",
    "#list all files in a folder\n",
    "txt_files = os.listdir('folder_name')\n",
    "for f in txt_files:\n",
    "    read_position = 'folder_name' + '/' + f\n",
    "    read_file = pd.read_csv (read_position, delimiter = '\\t', header=None).T #txt files are tab delimited, header=None means column name are passed and not the first row\n",
    "    #get file name without extension\n",
    "    file_name = Path(read_position).stem\n",
    "    write_position = 'folder_name' + '/' + file_name + '.csv'\n",
    "    read_file.to_csv (write_position, index=None, header=None)"
   ]
  },
  {
   "cell_type": "code",
   "execution_count": null,
   "metadata": {},
   "outputs": [],
   "source": [
    "csv_files = os.listdir('folder_name')\n",
    "csv_list = []\n",
    "for f in csv_files:\n",
    "    read_position = 'folder_name' + '/' + f\n",
    "    csv = pd.read_csv (read_position)\n",
    "    csv_list.append(csv)\n",
    "#concatenate all dataframes in list\n",
    "csv_concat = pd.concat(csv_list)\n",
    "csv_reindex = csv_concat.reset_index(drop=True) #drop=True means without adding index as new column\n",
    "#get mean value by rolling a window of 20 rows\n",
    "csv_rolling = csv_reindex.rolling(20).mean() \n",
    "#add a empty row at the bottom of the dataframe\n",
    "csv_rolling.loc[-1] = pd.Series() \n",
    "#make the empty row to the top\n",
    "csv_rolling.index = csv_rolling.index+1\n",
    "csv_rolling.sort_index(inplace=True) #inplace=True means updating the original dataframe\n",
    "#pick the values every in nth row\n",
    "n = 20\n",
    "csv_average = csv_rolling.iloc[::n, :]\n",
    "csv_average.to_csv ('file_name')"
   ]
  }
 ],
 "metadata": {
  "hide_input": false,
  "kernelspec": {
   "display_name": "Python 3",
   "language": "python",
   "name": "python3"
  },
  "language_info": {
   "codemirror_mode": {
    "name": "ipython",
    "version": 3
   },
   "file_extension": ".py",
   "mimetype": "text/x-python",
   "name": "python",
   "nbconvert_exporter": "python",
   "pygments_lexer": "ipython3",
   "version": "3.7.4"
  },
  "toc": {
   "base_numbering": 1,
   "nav_menu": {},
   "number_sections": true,
   "sideBar": true,
   "skip_h1_title": false,
   "title_cell": "Table of Contents",
   "title_sidebar": "Contents",
   "toc_cell": false,
   "toc_position": {},
   "toc_section_display": true,
   "toc_window_display": false
  }
 },
 "nbformat": 4,
 "nbformat_minor": 5
}
