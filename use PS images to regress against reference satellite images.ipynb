{
 "cells": [
  {
   "cell_type": "code",
   "execution_count": null,
   "metadata": {
    "id": "GwPKDvyX39m7"
   },
   "outputs": [],
   "source": [
    "from tifffile import imread\n",
    "from tifffile import imwrite\n",
    "from tifffile import imsave\n",
    "from matplotlib import pyplot\n",
    "import numpy as np\n",
    "import pandas as pd\n",
    "from scipy import stats\n",
    "from sklearn.model_selection import train_test_split\n",
    "from sklearn.preprocessing import StandardScaler\n",
    "from sklearn.model_selection import GridSearchCV\n",
    "from sklearn.metrics import mean_squared_error, r2_score\n",
    "from sklearn.neural_network import MLPRegressor\n",
    "from sklearn.ensemble import RandomForestRegressor\n",
    "from sklearn.svm import SVR\n",
    "import pickle\n",
    "import itertools"
   ]
  },
  {
   "cell_type": "code",
   "execution_count": null,
   "metadata": {
    "id": "PzYufl6Xwn6v"
   },
   "outputs": [],
   "source": [
    "# import reference satellite images and check the data\n",
    "rf_sl_20201204p = imread('file_name')\n",
    "rf_sl_20210114p = imread('file_name')\n",
    "rf_sl_20210122p = imread('file_name')\n",
    "rf_sl_20210201p = imread('file_name')\n",
    "rf_sl_20201204w = imread('file_name')\n",
    "rf_sl_20210114w = imread('file_name')\n",
    "rf_sl_20210122w = imread('file_name')\n",
    "print('rf_20201204p shape:',rf_sl_20201204p.shape, 'dtype:',rf_sl_20201204p.dtype)\n",
    "print('rf_20210114p shape:',rf_sl_20210114p.shape, 'dtype:',rf_sl_20210114p.dtype)\n",
    "print('rf_20210122p shape:',rf_sl_20210122p.shape, 'dtype:',rf_sl_20210122p.dtype)\n",
    "print('rf_20210201p shape:',rf_sl_20210201p.shape, 'dtype:',rf_sl_20210201p.dtype)\n",
    "print('rf_20201204w shape:',rf_sl_20201204w.shape, 'dtype:',rf_sl_20201204w.dtype)\n",
    "print('rf_20210114w shape:',rf_sl_20210114w.shape, 'dtype:',rf_sl_20210114w.dtype)\n",
    "print('rf_20210122w shape:',rf_sl_20210122w.shape, 'dtype:',rf_sl_20210122w.dtype)"
   ]
  },
  {
   "cell_type": "code",
   "execution_count": null,
   "metadata": {
    "id": "WsBgzVd7KbcN"
   },
   "outputs": [],
   "source": [
    "# flatten the first two dimension, use * to iteratively represent all the elements after [2:] \n",
    "rf_sl_20201204p_fl = rf_sl_20201204p.reshape(-1, *rf_sl_20201204p.shape[2:]) \n",
    "rf_sl_20210114p_fl = rf_sl_20210114p.reshape(-1, *rf_sl_20210114p.shape[2:])\n",
    "rf_sl_20210122p_fl = rf_sl_20210122p.reshape(-1, *rf_sl_20210122p.shape[2:])\n",
    "rf_sl_20210201p_fl = rf_sl_20210201p.reshape(-1, *rf_sl_20210201p.shape[2:])\n",
    "rf_sl_20201204w_fl = rf_sl_20201204w.reshape(-1, *rf_sl_20201204w.shape[2:])\n",
    "rf_sl_20210114w_fl = rf_sl_20210114w.reshape(-1, *rf_sl_20210114w.shape[2:])\n",
    "rf_sl_20210122w_fl = rf_sl_20210122w.reshape(-1, *rf_sl_20210122w.shape[2:])\n",
    "\n",
    "rf_sl_2021 = np.concatenate([rf_sl_20201204p_fl,rf_sl_20210114p_fl,rf_sl_20210122p_fl,\n",
    "                             rf_sl_20210201p_fl,rf_sl_20201204w_fl,rf_sl_20210114w_fl,\n",
    "                             rf_sl_20210122w_fl])\n",
    "\n",
    "rf_sl_2021 = rf_sl_2021[...,np.newaxis]\n",
    "\n",
    "rf_sl_2021_nan = np.where(rf_sl_2021 == 0, np.nan, rf_sl_2021) # replace 0 with nan for later row dropping\n",
    "\n",
    "print('rf_sl_shape_2021:',rf_sl_2021_nan.shape)\n",
    "print('rf_sl_type_2021:',rf_sl_2021_nan.dtype)"
   ]
  },
  {
   "cell_type": "code",
   "execution_count": null,
   "metadata": {},
   "outputs": [],
   "source": [
    "# import PlanetScope (PS) images and check the data\n",
    "sl_20201204p = imread('file_name')\n",
    "sl_20210114p = imread('file_name')\n",
    "sl_20210122p = imread('file_name')\n",
    "sl_20210201p = imread('file_name')\n",
    "sl_20201204w = imread('file_name')\n",
    "sl_20210114w = imread('file_name')\n",
    "sl_20210122w = imread('file_name')\n",
    "sl_20201204w = sl_20201204w[2:,:-2]\n",
    "sl_20210114w = sl_20210114w[1:-1,1:-1]\n",
    "sl_20210122w = sl_20210122w[1:,:-1]\n",
    "print('20201204p shape:',sl_20201204p.shape, 'dtype:',sl_20201204p.dtype)\n",
    "print('20210114p shape:',sl_20210114p.shape, 'dtype:',sl_20210114p.dtype)\n",
    "print('20210122p shape:',sl_20210122p.shape, 'dtype:',sl_20210122p.dtype)\n",
    "print('20210201p shape:',sl_20210201p.shape, 'dtype:',sl_20210201p.dtype)\n",
    "print('20201204w shape:',sl_20201204w.shape, 'dtype:',sl_20201204w.dtype)\n",
    "print('20210114w shape:',sl_20210114w.shape, 'dtype:',sl_20210114w.dtype)\n",
    "print('20210122w shape:',sl_20210122w.shape, 'dtype:',sl_20210122w.dtype)"
   ]
  },
  {
   "cell_type": "code",
   "execution_count": null,
   "metadata": {},
   "outputs": [],
   "source": [
    "# flatten the first two dimension\n",
    "sl_20201204p_fl = sl_20201204p.reshape(-1, *sl_20201204p.shape[2:]) \n",
    "sl_20210114p_fl = sl_20210114p.reshape(-1, *sl_20210114p.shape[2:])\n",
    "sl_20210122p_fl = sl_20210122p.reshape(-1, *sl_20210122p.shape[2:])\n",
    "sl_20210201p_fl = sl_20210201p.reshape(-1, *sl_20210201p.shape[2:])\n",
    "sl_20201204w_fl = sl_20201204w.reshape(-1, *sl_20201204w.shape[2:])\n",
    "sl_20210114w_fl = sl_20210114w.reshape(-1, *sl_20210114w.shape[2:])\n",
    "sl_20210122w_fl = sl_20210122w.reshape(-1, *sl_20210122w.shape[2:])\n",
    "\n",
    "sl_2021 = np.concatenate([sl_20201204p_fl,sl_20210114p_fl,sl_20210122p_fl,\n",
    "                          sl_20210201p_fl,sl_20201204w_fl,sl_20210114w_fl,\n",
    "                          sl_20210122w_fl], axis=0)\n",
    "\n",
    "sl_2021_nan = np.where(sl_2021 == 65535, np.nan, sl_2021).astype('float32') # replace 65535 with nan for later row dropping\n",
    "\n",
    "print('sl_shape_2021:',sl_2021_nan.shape)\n",
    "print('sl_type_2021:',sl_2021_nan.dtype)"
   ]
  },
  {
   "cell_type": "code",
   "execution_count": null,
   "metadata": {},
   "outputs": [],
   "source": [
    "# concatenate the reference satellite data and PS data\n",
    "sl_cc_2021 = np.concatenate([rf_sl_2021_nan,sl_2021_nan], axis=1)\n",
    "print('sl_cc_shape_2021:',sl_cc_2021.shape)\n",
    "print('sl_cc_type_2021:',sl_cc_2021.dtype)"
   ]
  },
  {
   "cell_type": "code",
   "execution_count": null,
   "metadata": {},
   "outputs": [],
   "source": [
    "# make train_test array back to dataframe\n",
    "df_sl_2021 = pd.DataFrame(sl_cc_2021)\n",
    "df_sl_2021.columns = ['GWS','costal_B','B','G1','G2','Y','R','R_edge','NIR']\n",
    "\n",
    "# drop rows with GWS column having nan\n",
    "df_sl_clean_2021 = df_sl_2021.dropna(axis=0, how='any').reset_index(drop=True)\n",
    "print('df_sl_clean_shape_2021:',df_sl_clean_2021.shape)\n",
    "print('df_sl_clean_type_2021:',df_sl_clean_2021.dtypes)"
   ]
  },
  {
   "cell_type": "code",
   "execution_count": null,
   "metadata": {},
   "outputs": [],
   "source": [
    "# compute NDSI based on all possible pair-wise combinations\n",
    "df_NDSI_2021 = pd.DataFrame()\n",
    "df_sl_X_2021 = df_sl_clean_2021.iloc[:,1:]\n",
    "for a, b in itertools.combinations(df_sl_X_2021.columns, 2):\n",
    "    df_NDSI_2021[f'{a}-{b}/{a}+{b}'] = (df_sl_X_2021[a]-df_sl_X_2021[b]).div(df_sl_X_2021[a]+df_sl_X_2021[b])\n",
    "print('df_NDSI_shape_2021:',df_NDSI_2021.shape)\n",
    "print('df_NDSI_type_2021:',df_NDSI_2021.dtypes)"
   ]
  },
  {
   "cell_type": "code",
   "execution_count": null,
   "metadata": {},
   "outputs": [],
   "source": [
    "# choose an optimal random state number\n",
    "test_list = []\n",
    "for i in range(0, 43):\n",
    "    X_2021, y_2021 = df_NDSI_2021.values, df_sl_clean_2021.iloc[:,0].values\n",
    "    X_train_2021, X_test_2021, y_train_2021, y_test_2021 = train_test_split(X_2021, y_2021, test_size=0.3, \n",
    "                                    random_state=i)\n",
    "    output = [i,np.mean(y_train_2021),np.mean(y_test_2021),np.std(y_train_2021),np.std(y_test_2021)]\n",
    "    test_list.append(output)\n",
    "df_test_list = pd.DataFrame(test_list, columns =['random state','train_mean','test_mean','train_std','test_std'])\n",
    "df_test_list.to_csv('CSV_file')"
   ]
  },
  {
   "cell_type": "code",
   "execution_count": null,
   "metadata": {},
   "outputs": [],
   "source": [
    "# train_test set splitting \n",
    "X_2021, y_2021 = df_NDSI_2021.values, df_sl_clean_2021.iloc[:,0].values\n",
    "X_train_2021, X_test_2021, y_train_2021, y_test_2021 = train_test_split(X_2021, y_2021, test_size=0.3, \n",
    "                                    random_state=5)"
   ]
  },
  {
   "cell_type": "code",
   "execution_count": null,
   "metadata": {},
   "outputs": [],
   "source": [
    "# check data \n",
    "print('any NaN in X_2021?', np.any(np.isnan(X_2021)))\n",
    "print('any NaN in y_2021?', np.any(np.isnan(y_2021)))\n",
    "print('any infinity in X_2021?', np.any(np.isinf(X_2021)))\n",
    "print('any infinity in y_2021?', np.any(np.isinf(y_2021)))"
   ]
  },
  {
   "cell_type": "code",
   "execution_count": null,
   "metadata": {},
   "outputs": [],
   "source": [
    "# standardization\n",
    "scaler_st = StandardScaler()\n",
    "X_train_2021_st = scaler_st.fit_transform(X_train_2021)\n",
    "X_test_2021_st = scaler_st.transform(X_test_2021)"
   ]
  },
  {
   "cell_type": "code",
   "execution_count": null,
   "metadata": {},
   "outputs": [],
   "source": [
    "# Multi-layer Perceptron \n",
    "mlp = MLPRegressor(random_state=0, max_iter=20000)\n",
    "mlp_para = {'hidden_layer_sizes': [(28,),(28,14),(28,14,7),(28,14,7,3)],\n",
    "            'activation': ['tanh', 'relu'], 'solver': ['sgd', 'adam'], \n",
    "            'learning_rate': ['constant','adaptive'],\n",
    "            'alpha': [0.0001,0.001,0.01]}\n",
    "mlp_gs = GridSearchCV(mlp, mlp_para, cv = 10, scoring='r2', n_jobs=8)\n",
    "mlp_gs.fit(X_train_2021_st, y_train_2021)\n",
    "mlp_train_r2 = mlp_gs.score(X_train_2021_st, y_train_2021)\n",
    "mlp_test_r2_2021 = mlp_gs.score(X_test_2021_st, y_test_2021)\n",
    "mlp_test_rmse_2021 = mean_squared_error(y_test_2021, \n",
    "                                        mlp_gs.predict(X_test_2021_st), \n",
    "                                      squared=False)\n",
    "print(mlp_train_r2, mlp_test_r2_2021, mlp_test_rmse_2021)"
   ]
  },
  {
   "cell_type": "code",
   "execution_count": null,
   "metadata": {},
   "outputs": [],
   "source": [
    "# Random forest regression\n",
    "rf = RandomForestRegressor(max_depth=15, n_estimators=500, random_state=0, \n",
    "                           n_jobs=8)\n",
    "rf_para = {'max_features':['auto', 'sqrt', 'log2']}\n",
    "rf_gs = GridSearchCV(rf, rf_para, cv = 10, scoring='r2', n_jobs=8)\n",
    "rf_gs.fit(X_train_2021_st, y_train_2021)\n",
    "rf_train_r2 = rf_gs.score(X_train_2021_st, y_train_2021)\n",
    "rf_test_r2_2021 = rf_gs.score(X_test_2021_st, y_test_2021)\n",
    "rf_test_rmse_2021 = mean_squared_error(y_test_2021, \n",
    "                                       rf_gs.predict(X_test_2021_st), \n",
    "                                      squared=False)\n",
    "print(rf_train_r2, rf_test_r2_2021, rf_test_rmse_2021)"
   ]
  },
  {
   "cell_type": "code",
   "execution_count": null,
   "metadata": {},
   "outputs": [],
   "source": [
    "# Support vector regression\n",
    "svr = SVR()\n",
    "svr_para = {'kernel':['linear','poly','rbf'], 'C':[0.01,0.1,1,10,100], \n",
    "                        'gamma':['scale','auto'], 'epsilon':[0.1,0.5,0.9]}\n",
    "svr_gs = GridSearchCV(svr, svr_para, cv = 10, scoring='r2', n_jobs=8)\n",
    "svr_gs.fit(X_train_2021_st, y_train_2021)\n",
    "svr_train_r2 = svr_gs.score(X_train_2021_st, y_train_2021)\n",
    "svr_test_r2_2021 = svr_gs.score(X_test_2021_st, y_test_2021)\n",
    "svr_test_rmse_2021 = mean_squared_error(y_test_2021, \n",
    "                                        svr_gs.predict(X_test_2021_st),\n",
    "                                       squared=False)\n",
    "print(svr_train_r2, svr_test_r2_2021, svr_test_rmse_2021)"
   ]
  },
  {
   "cell_type": "code",
   "execution_count": null,
   "metadata": {},
   "outputs": [],
   "source": [
    "# save trained model\n",
    "pickle.dump(rf_gs, open('file_name', 'wb'))"
   ]
  },
  {
   "cell_type": "code",
   "execution_count": null,
   "metadata": {},
   "outputs": [],
   "source": [
    "#make regression graph\n",
    "graph_x1 = y_train_2021 \n",
    "graph_y1 = rf_gs.predict(X_train_2021_st)\n",
    "graph_x2 = y_test_2021\n",
    "graph_y2 = rf_gs.predict(X_test_2021_st)\n",
    "pyplot.figure(dpi=600)\n",
    "pyplot.plot([200,1200], [200,1200], 'r:')\n",
    "scatter1 = pyplot.scatter(graph_x1, graph_y1, s=0.05)\n",
    "scatter2 = pyplot.scatter(graph_x2, graph_y2, s=0.05)\n",
    "lgnd = pyplot.legend((scatter1,scatter2), ('training set','test set',), loc='lower right')\n",
    "lgnd.legendHandles[0]._sizes = [5] # point size in legend\n",
    "lgnd.legendHandles[1]._sizes = [5]\n",
    "pyplot.ylabel('predicted Ѱstem (kPa)')\n",
    "pyplot.xlabel('reference Ѱstem (kPa) from 3m calibrated UAV images')\n",
    "pyplot.axis([200,1200, 200,1200])\n",
    "pyplot.savefig('plot_file',dpi=600)\n",
    "pyplot.show()"
   ]
  }
 ],
 "metadata": {
  "colab": {
   "authorship_tag": "ABX9TyPnaBgYcVEGQfT+v9w5fv9m",
   "mount_file_id": "1dp9BtW85IZFjeFQTCKHeXfiByVTaTY5_",
   "name": "Calibrate UAV images.ipynb",
   "provenance": []
  },
  "hide_input": false,
  "kernelspec": {
   "display_name": "Python 3",
   "language": "python",
   "name": "python3"
  },
  "language_info": {
   "codemirror_mode": {
    "name": "ipython",
    "version": 3
   },
   "file_extension": ".py",
   "mimetype": "text/x-python",
   "name": "python",
   "nbconvert_exporter": "python",
   "pygments_lexer": "ipython3",
   "version": "3.7.4"
  },
  "toc": {
   "base_numbering": 1,
   "nav_menu": {},
   "number_sections": true,
   "sideBar": true,
   "skip_h1_title": false,
   "title_cell": "Table of Contents",
   "title_sidebar": "Contents",
   "toc_cell": false,
   "toc_position": {},
   "toc_section_display": true,
   "toc_window_display": false
  }
 },
 "nbformat": 4,
 "nbformat_minor": 1
}
