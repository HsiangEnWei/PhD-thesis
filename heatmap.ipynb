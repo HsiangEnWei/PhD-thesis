{
 "cells": [
  {
   "cell_type": "code",
   "execution_count": null,
   "metadata": {},
   "outputs": [],
   "source": [
    "import seaborn as sns\n",
    "import numpy as np\n",
    "import pandas as pd\n",
    "import matplotlib.pyplot as plt"
   ]
  },
  {
   "cell_type": "code",
   "execution_count": null,
   "metadata": {},
   "outputs": [],
   "source": [
    "# produce heatmap displaying important simple ratio indices \n",
    "# import simple ratio indices with values indicating feature importance or coefficient weight\n",
    "df_rf = pd.read_csv('CSV_file')"
   ]
  },
  {
   "cell_type": "code",
   "execution_count": null,
   "metadata": {},
   "outputs": [],
   "source": [
    "# make empty dataframe and import\n",
    "df_rf_em = pd.read_csv('CSV_file')\n",
    "df_rf_em = df_rf_em.set_index('index')\n",
    "df_rf_em.index.name = None"
   ]
  },
  {
   "cell_type": "code",
   "execution_count": null,
   "metadata": {},
   "outputs": [],
   "source": [
    "band = df_rf.iloc[:,2:].to_numpy()\n",
    "for i, j in band:\n",
    "    x = df_rf[(df_rf['band1']==i) & (df_rf['band2']==j)]\n",
    "    df_rf_em.iloc[j-400, i-400] = x.iloc[0,0] # exclude 0\n",
    "df_rf_em.to_csv('CSV_file')"
   ]
  },
  {
   "cell_type": "code",
   "execution_count": null,
   "metadata": {},
   "outputs": [],
   "source": [
    "# plot\n",
    "df_rf = pd.read_csv('CSV_file')\n",
    "df_rf = df_rf.set_index('index')\n",
    "df_rf.index.name = None\n",
    "sns.set(rc={\"figure.dpi\":600, 'savefig.dpi':600})\n",
    "sns.set_style(\"whitegrid\")\n",
    "hm_rf = sns.heatmap(df_rf, vmin=0.0000000105, vmax=0.002, cmap= 'autumn', cbar_kws={\n",
    "    'label': 'variable importance'}, xticklabels=200, yticklabels=200)\n",
    "hm_rf.invert_yaxis()\n",
    "hm_rf.axhline(y = 0, color = 'k', linewidth = 2)\n",
    "hm_rf.axvline(x = 0, color = 'k', linewidth = 2)\n",
    "plt.yticks(rotation=0) \n",
    "plt.xlabel('wavelength (nm)') \n",
    "plt.ylabel('wavelength (nm)') \n",
    "plt.savefig('plot_file', dpi=600)\n",
    "plt.show()"
   ]
  }
 ],
 "metadata": {
  "kernelspec": {
   "display_name": "Python 3",
   "language": "python",
   "name": "python3"
  },
  "language_info": {
   "codemirror_mode": {
    "name": "ipython",
    "version": 3
   },
   "file_extension": ".py",
   "mimetype": "text/x-python",
   "name": "python",
   "nbconvert_exporter": "python",
   "pygments_lexer": "ipython3",
   "version": "3.7.4"
  }
 },
 "nbformat": 4,
 "nbformat_minor": 5
}
