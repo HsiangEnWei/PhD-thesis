{
 "cells": [
  {
   "cell_type": "code",
   "execution_count": null,
   "metadata": {
    "id": "GwPKDvyX39m7"
   },
   "outputs": [],
   "source": [
    "from tifffile import imread\n",
    "from tifffile import imwrite\n",
    "from tifffile import imsave\n",
    "from matplotlib import pyplot\n",
    "import numpy as np\n",
    "import pandas as pd\n",
    "from scipy import stats\n",
    "from sklearn.model_selection import train_test_split\n",
    "from sklearn.preprocessing import StandardScaler\n",
    "from sklearn.model_selection import GridSearchCV\n",
    "from sklearn.metrics import mean_squared_error, r2_score\n",
    "from sklearn.neural_network import MLPRegressor\n",
    "from sklearn.ensemble import RandomForestRegressor\n",
    "import pickle"
   ]
  },
  {
   "cell_type": "code",
   "execution_count": null,
   "metadata": {
    "id": "PzYufl6Xwn6v"
   },
   "outputs": [],
   "source": [
    "# import UAV, elevation, slope, and apparent electrical conductivity maps\n",
    "UAV_20201204p = imread('file_name')\n",
    "UAV_20210114p = imread('file_name')\n",
    "UAV_20210122p = imread('file_name')\n",
    "UAV_20210201p = imread('file_name')\n",
    "UAV_20201204w = imread('file_name')\n",
    "UAV_20210114w = imread('file_name')\n",
    "UAV_20210122w = imread('file_name')\n",
    "DEMp = imread('file_name')\n",
    "DEMw = imread('file_name')\n",
    "Slope_p = imread('file_name')\n",
    "Slope_w = imread('file_name')\n",
    "EBKp = imread('file_name')\n",
    "EBKw = imread('file_name') \n",
    "UAV_20201204p = np.delete(UAV_20201204p, 0, 0)\n",
    "UAV_20210122p = np.delete(UAV_20210122p, 0, 0)"
   ]
  },
  {
   "cell_type": "code",
   "execution_count": null,
   "metadata": {
    "colab": {
     "base_uri": "https://localhost:8080/"
    },
    "executionInfo": {
     "elapsed": 13,
     "status": "ok",
     "timestamp": 1659569633088,
     "user": {
      "displayName": "Shine Wei",
      "userId": "17757792049135125463"
     },
     "user_tz": -720
    },
    "id": "Hpjsu3kOB7jh",
    "outputId": "35760006-0336-4c23-8d23-31a9b34e030a"
   },
   "outputs": [],
   "source": [
    "# check data shape and type\n",
    "print('20201204p shape:',UAV_20201204p.shape, 'dtype:',UAV_20201204p.dtype)\n",
    "print('20210114p shape:',UAV_20210114p.shape, 'dtype:',UAV_20210114p.dtype)\n",
    "print('20210122p shape:',UAV_20210122p.shape, 'dtype:',UAV_20210122p.dtype)\n",
    "print('20210201p shape:',UAV_20210201p.shape, 'dtype:',UAV_20210201p.dtype)\n",
    "print('20201204w shape:',UAV_20201204w.shape, 'dtype:',UAV_20201204w.dtype)\n",
    "print('20210114w shape:',UAV_20210114w.shape, 'dtype:',UAV_20210114w.dtype)\n",
    "print('20210122w shape:',UAV_20210122w.shape, 'dtype:',UAV_20210122w.dtype)\n",
    "print('DEMp shape:',DEMp.shape, 'dtype:',DEMp.dtype)\n",
    "print('DEMw shape:',DEMw.shape, 'dtype:',DEMw.dtype)\n",
    "print('Slope_p shape:',Slope_p.shape, 'dtype:',Slope_p.dtype)\n",
    "print('Slope_w shape:',Slope_w.shape, 'dtype:',Slope_w.dtype)\n",
    "print('EBKp shape:',EBKp.shape, 'dtype:',EBKp.dtype)\n",
    "print('EBKw shape:',EBKw.shape, 'dtype:',EBKw.dtype)"
   ]
  },
  {
   "cell_type": "code",
   "execution_count": null,
   "metadata": {
    "id": "WsBgzVd7KbcN"
   },
   "outputs": [],
   "source": [
    "# flatten the first two dimension, use * to iteratively represent all the elements after [2:] \n",
    "UAV_20201204p_fl = UAV_20201204p.reshape(-1, *UAV_20201204p.shape[2:]) \n",
    "UAV_20210114p_fl = UAV_20210114p.reshape(-1, *UAV_20210114p.shape[2:])\n",
    "UAV_20210122p_fl = UAV_20210122p.reshape(-1, *UAV_20210122p.shape[2:])\n",
    "UAV_20210201p_fl = UAV_20210201p.reshape(-1, *UAV_20210201p.shape[2:])\n",
    "UAV_20201204w_fl = UAV_20201204w.reshape(-1, *UAV_20201204w.shape[2:])\n",
    "UAV_20210114w_fl = UAV_20210114w.reshape(-1, *UAV_20210114w.shape[2:])\n",
    "UAV_20210122w_fl = UAV_20210122w.reshape(-1, *UAV_20210122w.shape[2:])\n",
    "DEMp_fl = DEMp.reshape(-1,*DEMp.shape[2:])\n",
    "DEMw_fl = DEMw.reshape(-1,*DEMw.shape[2:])\n",
    "Slope_p_fl = Slope_p.reshape(-1,*Slope_p.shape[2:])\n",
    "Slope_w_fl = Slope_w.reshape(-1,*Slope_w.shape[2:])\n",
    "EBKp_fl = EBKp.reshape(-1,*EBKp.shape[2:])\n",
    "EBKw_fl = EBKw.reshape(-1,*EBKw.shape[2:])"
   ]
  },
  {
   "cell_type": "code",
   "execution_count": null,
   "metadata": {
    "id": "S5BbyyntjfSl"
   },
   "outputs": [],
   "source": [
    "# import the trained model\n",
    "UAV_mlp_2021 = pickle.load(open('file_name', 'rb'))"
   ]
  },
  {
   "cell_type": "code",
   "execution_count": null,
   "metadata": {
    "colab": {
     "base_uri": "https://localhost:8080/"
    },
    "executionInfo": {
     "elapsed": 68051,
     "status": "ok",
     "timestamp": 1659577940635,
     "user": {
      "displayName": "Shine Wei",
      "userId": "17757792049135125463"
     },
     "user_tz": -720
    },
    "id": "r6jG146BJWC1",
    "outputId": "38f55ef3-22dd-4875-ead0-e25433817eb5"
   },
   "outputs": [],
   "source": [
    "# organize the predictors\n",
    "raster = UAV_20220121w_fl # need change!\n",
    "pixels = raster.shape[0]\n",
    "doy = 60 #20201204 is 12, 20210114 is 53, 20210122 is 61, 20210201 is 71 \n",
    "        #20211123 is 1, 20211129 is 7, 20211209 is 17, 20220111 is 50, 20220121 is 60\n",
    "DOY = np.array([[doy]*1]*pixels)\n",
    "Elevation = DEMw_fl # need change!\n",
    "Slope = Slope_w_fl # need change!\n",
    "EC = EBKw_fl # need change!\n",
    "\n",
    "NDVI = (raster[:,4] - raster[:,2])/ (raster[:,4] + raster[:,2])\n",
    "GNDVI = (raster[:,4] - raster[:,1])/ (raster[:,4] + raster[:,1])\n",
    "SR = raster[:,4]/raster[:,2]\n",
    "MSAVI = (2*raster[:,4]+1-((2*raster[:,4]+1)**2-8*(raster[:,4]-raster[:,2]))**1/2)/2\n",
    "OSAVI = (raster[:,4]-raster[:,2])/(raster[:,4]+raster[:,2]+0.16)\n",
    "RG = raster[:,2]/raster[:,1]\n",
    "ExG = 2 * raster[:,1] - raster[:,2] - raster[:,0]\n",
    "EVI = 2.5 * (raster[:,4] - raster[:,2])/ (raster[:,4] + 6 * raster[:,2] - 7.5 * raster[:,0] + 1)\n",
    "TCARI = 3 * ((raster[:,3] - raster[:,2]) - 0.2 * (raster[:,3] - raster[:,1]) * (raster[:,3]/raster[:,2]))\n",
    "MCARI = ((raster[:,3] - raster[:,2]) - 0.2 * (raster[:,3] - raster[:,1])) * (raster[:,3]/raster[:,2])\n",
    "MTVI1 = 1.2 * (1.2 * (raster[:,4] - raster[:,1]) - 2.5 * (raster[:,2] - raster[:,1]))\n",
    "NDRE = (raster[:,4] - raster[:,3])/ (raster[:,4] + raster[:,3])\n",
    "NGRDI = (raster[:,1] - raster[:,2])/ (raster[:,1] + raster[:,2])\n",
    "CL_rededge = (raster[:,4]/raster[:,3]) - 1\n",
    "DVI = raster[:,4] - raster[:,2]\n",
    "VARI = (raster[:,1] - raster[:,2])/ (raster[:,1] + raster[:,2] - raster[:,0]) \n",
    "raster_n = np.concatenate([DOY,Elevation[...,np.newaxis],Slope[...,np.newaxis],EC[...,np.newaxis],\n",
    "                           NDVI[...,np.newaxis],GNDVI[...,np.newaxis],\n",
    "                           SR[...,np.newaxis],MSAVI[...,np.newaxis],OSAVI[...,np.newaxis],\n",
    "                           RG[...,np.newaxis],ExG[...,np.newaxis],EVI[...,np.newaxis],\n",
    "                           TCARI[...,np.newaxis],MCARI[...,np.newaxis],MTVI1[...,np.newaxis],\n",
    "                           NDRE[...,np.newaxis],NGRDI[...,np.newaxis],CL_rededge[...,np.newaxis],\n",
    "                           DVI[...,np.newaxis],VARI[...,np.newaxis]], axis=1)\n",
    "raster_n.shape"
   ]
  },
  {
   "cell_type": "code",
   "execution_count": null,
   "metadata": {},
   "outputs": [],
   "source": [
    "# data cleaning\n",
    "raster_r_inf = np.where(raster_n > 3.00000000e+38, 0.00000000e+00, raster_n) # replace values over than 3.00000000e+38 with 0, otherwise stay the same as original\n",
    "raster_clean = np.nan_to_num(raster_r_inf, nan=0.00000000e+00) #replace nan values with 0\n",
    "print('minimum value:',np.min(raster_clean))\n",
    "print('maximum value:',np.max(raster_clean))"
   ]
  },
  {
   "cell_type": "code",
   "execution_count": null,
   "metadata": {},
   "outputs": [],
   "source": [
    "# standardize the predictors\n",
    "df_2021 = pd.read_csv('CSV_file')\n",
    "# train_test set splitting \n",
    "X_2021, y_2021 = df_2021.iloc[:,1:].values, df_2021.iloc[:,0].values\n",
    "X_train_2021, X_test_2021, y_train_2021, y_test_2021 = train_test_split(X_2021, y_2021, \n",
    "                                                        test_size=0.3, \n",
    "                                    random_state=37, stratify=df_2021.iloc[:,2]) \n",
    "# get standardization scaler\n",
    "scaler_st_2021 = StandardScaler()\n",
    "X_train_2021_st = scaler_st_2021.fit_transform(X_train_2021[:,1:])\n",
    "# standardization\n",
    "raster_st = scaler_st_2021.transform(raster_clean)"
   ]
  },
  {
   "cell_type": "code",
   "execution_count": null,
   "metadata": {},
   "outputs": [],
   "source": [
    "# create grapevine water status map\n",
    "UAV_WS = UAV_rf_2022.predict(raster_st) # need change!\n",
    "UAV_WS_rs = UAV_WS.reshape(7621, 8820) # need change!\n",
    "raster5_r_inf = np.where(raster[:,5] > 3.00000000e+38, 0.00000000e+00, raster[:,5])\n",
    "raster5_rs = raster5_r_inf.reshape(7621, 8820)\n",
    "print('GWS_min:',np.min(UAV_WS_rs))\n",
    "print('GWS_max:',np.max(UAV_WS_rs))\n",
    "print('GWS_mean:',np.mean(UAV_WS_rs))\n",
    "print('height_min:',np.min(raster5_rs))\n",
    "print('height_max:',np.max(raster5_rs))\n",
    "print('height_mean:',np.mean(raster5_rs))"
   ]
  },
  {
   "cell_type": "code",
   "execution_count": null,
   "metadata": {},
   "outputs": [],
   "source": [
    "# export images\n",
    "imsave('file_name', UAV_WS_rs, resolution=(1./0.05, 1./0.05)) # need change!\n",
    "# add planarconfig='contig' for saving multibands"
   ]
  }
 ],
 "metadata": {
  "colab": {
   "authorship_tag": "ABX9TyPnaBgYcVEGQfT+v9w5fv9m",
   "mount_file_id": "1dp9BtW85IZFjeFQTCKHeXfiByVTaTY5_",
   "name": "Calibrate UAV images.ipynb",
   "provenance": []
  },
  "hide_input": false,
  "kernelspec": {
   "display_name": "Python 3",
   "language": "python",
   "name": "python3"
  },
  "language_info": {
   "codemirror_mode": {
    "name": "ipython",
    "version": 3
   },
   "file_extension": ".py",
   "mimetype": "text/x-python",
   "name": "python",
   "nbconvert_exporter": "python",
   "pygments_lexer": "ipython3",
   "version": "3.7.4"
  },
  "toc": {
   "base_numbering": 1,
   "nav_menu": {},
   "number_sections": true,
   "sideBar": true,
   "skip_h1_title": false,
   "title_cell": "Table of Contents",
   "title_sidebar": "Contents",
   "toc_cell": false,
   "toc_position": {},
   "toc_section_display": true,
   "toc_window_display": false
  }
 },
 "nbformat": 4,
 "nbformat_minor": 1
}
