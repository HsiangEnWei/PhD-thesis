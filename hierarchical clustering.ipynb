{
 "cells": [
  {
   "cell_type": "code",
   "execution_count": null,
   "metadata": {},
   "outputs": [],
   "source": [
    "import pandas as pd\n",
    "import numpy as np\n",
    "import scipy as sc\n",
    "from matplotlib import pyplot\n",
    "from sklearn.preprocessing import StandardScaler\n",
    "from sklearn.metrics import pairwise_distances\n",
    "from scipy.cluster.hierarchy import dendrogram\n",
    "from sklearn.cluster import FeatureAgglomeration"
   ]
  },
  {
   "cell_type": "code",
   "execution_count": null,
   "metadata": {},
   "outputs": [],
   "source": [
    "df = pd.read_csv('CSV_file')\n",
    "df_array = df.to_numpy()\n",
    "# Standardization\n",
    "scaler_st = StandardScaler()\n",
    "array_st = scaler_st.fit_transform(df_array)\n",
    "# make array back to dataframe\n",
    "df_st = pd.DataFrame(array_st)\n",
    "df_st.columns = df.columns"
   ]
  },
  {
   "cell_type": "code",
   "execution_count": null,
   "metadata": {},
   "outputs": [],
   "source": [
    "df_feature = df_st.iloc[:,2:30]\n",
    "df_feature_drop = df_feature.drop(['m_Tmax','w_Tmax','d_Tmax','m_IRmean',\n",
    "                                   'w_IRmean','d_IRmean','Vineyard','m_Tmean',\n",
    "                                  'm_RHmean','m_Rtotal','m_WSmean',\n",
    "                                   'm_IRtotal','Canopy volume'], axis=1)\n",
    "df_feature_array = df_feature_drop.to_numpy() "
   ]
  },
  {
   "cell_type": "code",
   "execution_count": null,
   "metadata": {},
   "outputs": [],
   "source": [
    "# Agglomerative clustering features (complete linkage)\n",
    "def corr_affinity(X): # Method of calculating correlation distance between all sample pairs\n",
    "    return pairwise_distances(X, metric='correlation') \n",
    "clustering = FeatureAgglomeration(distance_threshold=0, n_clusters=None, \n",
    "                                  affinity=corr_affinity, linkage='complete') # setting distance_threshold=0 ensures we compute the full tree\n",
    "clustering_fit = clustering.fit(df_feature_array) # pass the pre-calculated distance matrix for your observations\n",
    "\n",
    "def plot_dendrogram(model, **kwargs):\n",
    "    # Create linkage matrix and then plot the dendrogram\n",
    "    # create the counts of samples under each node\n",
    "    counts = np.zeros(model.children_.shape[0])\n",
    "    n_samples = len(model.labels_)\n",
    "    for i, merge in enumerate(model.children_):\n",
    "        current_count = 0\n",
    "        for child_idx in merge:\n",
    "            if child_idx < n_samples:\n",
    "                current_count += 1  # leaf node\n",
    "            else:\n",
    "                current_count += counts[child_idx - n_samples]\n",
    "        counts[i] = current_count\n",
    "\n",
    "    linkage_matrix = np.column_stack(\n",
    "        [model.children_, model.distances_, counts]\n",
    "    ).astype(float)\n",
    "\n",
    "    # Plot the corresponding dendrogram\n",
    "    dendrogram(linkage_matrix, **kwargs)\n",
    "    \n",
    "# plot dendrogram\n",
    "pyplot.figure(dpi=600)    \n",
    "plot_dendrogram(clustering_fit, labels=df_feature_drop.columns, \n",
    "                leaf_font_size=8, color_threshold=0.75, \n",
    "                distance_sort='ascending', leaf_rotation=45)\n",
    "pyplot.savefig('plot_file',dpi=600,bbox_inches='tight')\n",
    "pyplot.show()"
   ]
  }
 ],
 "metadata": {
  "hide_input": false,
  "kernelspec": {
   "display_name": "Python 3",
   "language": "python",
   "name": "python3"
  },
  "language_info": {
   "codemirror_mode": {
    "name": "ipython",
    "version": 3
   },
   "file_extension": ".py",
   "mimetype": "text/x-python",
   "name": "python",
   "nbconvert_exporter": "python",
   "pygments_lexer": "ipython3",
   "version": "3.7.4"
  },
  "toc": {
   "base_numbering": 1,
   "nav_menu": {},
   "number_sections": true,
   "sideBar": true,
   "skip_h1_title": false,
   "title_cell": "Table of Contents",
   "title_sidebar": "Contents",
   "toc_cell": false,
   "toc_position": {},
   "toc_section_display": true,
   "toc_window_display": false
  }
 },
 "nbformat": 4,
 "nbformat_minor": 2
}
