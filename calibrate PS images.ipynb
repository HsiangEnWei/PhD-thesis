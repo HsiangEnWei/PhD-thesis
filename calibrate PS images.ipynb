{
 "cells": [
  {
   "cell_type": "code",
   "execution_count": null,
   "metadata": {
    "id": "GwPKDvyX39m7"
   },
   "outputs": [],
   "source": [
    "from tifffile import imread\n",
    "from tifffile import imwrite\n",
    "from tifffile import imsave\n",
    "from matplotlib import pyplot\n",
    "import numpy as np\n",
    "import pandas as pd\n",
    "from scipy import stats\n",
    "from sklearn.model_selection import train_test_split\n",
    "from sklearn.preprocessing import StandardScaler\n",
    "from sklearn.model_selection import GridSearchCV\n",
    "from sklearn.metrics import mean_squared_error, r2_score\n",
    "from sklearn.neural_network import MLPRegressor\n",
    "from sklearn.ensemble import RandomForestRegressor\n",
    "from sklearn.svm import SVR\n",
    "import pickle\n",
    "import os\n",
    "from os import listdir\n",
    "import itertools"
   ]
  },
  {
   "cell_type": "code",
   "execution_count": null,
   "metadata": {},
   "outputs": [],
   "source": [
    "# check statistics of all the images in the folder\n",
    "folder = 'folder_name'\n",
    "for images in os.listdir(folder):\n",
    "    if (images.endswith('.tif')):\n",
    "        a = imread(os.path.join(folder,images))\n",
    "        a_r_inf = np.where(a > 65530, 0, a)\n",
    "        a_fl = a_r_inf.reshape(-1, *a_r_inf.shape[2:])\n",
    "        locals()[os.path.splitext(images)[0]] = a_fl #modify the value of the given string through the local’s dictionary.\n",
    "        print(os.path.splitext(images)[0]) #get filename\n",
    "        print(a.shape)\n",
    "        print(a_fl.shape)\n",
    "        print(a_fl.dtype)\n",
    "        for i in range(0, 8):\n",
    "            print(stats.describe(a_fl[:,i]))"
   ]
  },
  {
   "cell_type": "code",
   "execution_count": null,
   "metadata": {},
   "outputs": [],
   "source": [
    "# get the index of NoData pixels\n",
    "NoData_p = np.where(Clip_PS_rp__20201115p[:,0] == 0)\n",
    "NoData_w = np.where(Clip_PS_rp__20201115w[:,0] == 0)\n",
    "boundary_p = NoData_p[0].tolist()\n",
    "boundary_w = NoData_w[0].tolist()\n",
    "print('P pixel number:', 13015-len(NoData_p[0])) # NoData_p[0] refers to index of values == 0 in axis 0\n",
    "print('W pixel number:', 18669-len(NoData_w[0]))"
   ]
  },
  {
   "cell_type": "code",
   "execution_count": null,
   "metadata": {},
   "outputs": [],
   "source": [
    "# create a list of variables of only PlanetScope (PS) images\n",
    "keylist = list(locals().keys()) # get keys from all variables from local dic, locals() can be used to list all variables in memory. \n",
    "variable_list = []\n",
    "for variables in keylist:\n",
    "    if variables.startswith('Clip_PS_rp__'):\n",
    "        variable_list.append(variables)\n",
    "print(variable_list)\n",
    "print('image number:', len(variable_list))"
   ]
  },
  {
   "cell_type": "code",
   "execution_count": null,
   "metadata": {},
   "outputs": [],
   "source": [
    "# create NDSI for each PS variable\n",
    "for variables in variable_list:\n",
    "    df_NDSI_variables = pd.DataFrame()\n",
    "    df_variables = pd.DataFrame(locals()[variables]).astype('float32') # locals()[variables] is for expressing the value of the variables\n",
    "    df_variables.columns = ['costal_B','B','G1','G2','Y','R','R_edge','NIR']\n",
    "    for a, b in itertools.combinations(df_variables.columns, 2):\n",
    "        df_NDSI_variables[f'{a}-{b}/{a}+{b}'] = (df_variables[a]-df_variables[b]).div(df_variables[a]+df_variables[b])\n",
    "    arr_NDSI_variables = df_NDSI_variables.to_numpy()\n",
    "    arr_NDSI_variables_clean = np.nan_to_num(arr_NDSI_variables, nan=0)\n",
    "    locals()['arr_{}'.format(variables)] = arr_NDSI_variables_clean\n",
    "    print('df_NDSI_{}_shape:'.format(variables), df_NDSI_variables.shape)\n",
    "    print('arr_NDSI_{}_shape:'.format(variables), arr_NDSI_variables_clean.shape)\n",
    "    print('arr_NDSI_{}_dtypes:'.format(variables), arr_NDSI_variables_clean.dtype)\n",
    "    for i in range(0, 28):\n",
    "        print(stats.describe(arr_NDSI_variables_clean[:,i]))"
   ]
  },
  {
   "cell_type": "code",
   "execution_count": null,
   "metadata": {
    "id": "S5BbyyntjfSl"
   },
   "outputs": [],
   "source": [
    "# import the trained model\n",
    "PS_rf = pickle.load(open('file_name', 'rb'))"
   ]
  },
  {
   "cell_type": "code",
   "execution_count": null,
   "metadata": {},
   "outputs": [],
   "source": [
    "# create a list of variables of only PS arrays\n",
    "keylist1 = list(locals().keys()) # get keys from all variables in local, locals() can be used to list all variables in memory \n",
    "variable_list1 = []\n",
    "for variables in keylist1:\n",
    "    if variables.startswith('arr_Clip_PS_rp'):\n",
    "        variable_list1.append(variables)\n",
    "print(variable_list1)\n",
    "print('array number:', len(variable_list1))"
   ]
  },
  {
   "cell_type": "code",
   "execution_count": null,
   "metadata": {},
   "outputs": [],
   "source": [
    "# import data \n",
    "df_NDSI_2021 = pd.read_csv('file_name') \n",
    "df_sl_clean_2021 = pd.read_csv('file_name')\n",
    "# train_test set splitting (stratified with day of the year and the vineyards)\n",
    "X_2021, y_2021 = df_NDSI_2021.values, df_sl_clean_2021.iloc[:,0].values\n",
    "X_train_2021, X_test_2021, y_train_2021, y_test_2021 = train_test_split(X_2021, y_2021, test_size=0.3, \n",
    "                                    random_state=5) \n",
    "# get standardization scaler\n",
    "scaler_st = StandardScaler()\n",
    "X_train_2021_st = scaler_st.fit_transform(X_train_2021)"
   ]
  },
  {
   "cell_type": "code",
   "execution_count": null,
   "metadata": {},
   "outputs": [],
   "source": [
    "# create grapevine water status (GWS) map\n",
    "for variables in variable_list1:\n",
    "    raster_st = scaler_st.transform(locals()[variables]) # standardization\n",
    "    PS_WS = PS_rf.predict(raster_st)\n",
    "    print('GWS_min_{}:'.format(variables),np.min(PS_WS))\n",
    "    print('GWS_max_{}:'.format(variables),np.max(PS_WS))\n",
    "    if PS_WS.shape[0] == 13015:\n",
    "        for i in boundary_p:\n",
    "            PS_WS[i] = np.nan # convert all pixels not in the study area into nan\n",
    "        PS_WS_rs = PS_WS.reshape(95, 137) \n",
    "    elif PS_WS.shape[0] == 18669:\n",
    "        for i in boundary_w:\n",
    "            PS_WS[i] = np.nan\n",
    "        PS_WS_rs = PS_WS.reshape(127, 147)\n",
    "    locals()['PS_cb_{}'.format(variables)] = PS_WS_rs"
   ]
  },
  {
   "cell_type": "code",
   "execution_count": null,
   "metadata": {},
   "outputs": [],
   "source": [
    "# create a list of GWS array\n",
    "keylist2 = list(locals().keys()) # get keys from all variables in local, locals() can be used to list all variables in memory \n",
    "variable_list2 = []\n",
    "for variables in keylist2:\n",
    "    if variables.startswith('PS_cb_arr_Clip_PS_rp'):\n",
    "        variable_list2.append(variables)\n",
    "print(variable_list2)\n",
    "print('GWS array number:', len(variable_list2))"
   ]
  },
  {
   "cell_type": "code",
   "execution_count": null,
   "metadata": {},
   "outputs": [],
   "source": [
    "# export images\n",
    "for variables in variable_list2:\n",
    "    imwrite('path'.format(variables), locals()[variables], resolution=(1./3., 1./3.))\n",
    "# add planarconfig='contig' for saving multibands"
   ]
  }
 ],
 "metadata": {
  "colab": {
   "authorship_tag": "ABX9TyPnaBgYcVEGQfT+v9w5fv9m",
   "mount_file_id": "1dp9BtW85IZFjeFQTCKHeXfiByVTaTY5_",
   "name": "Calibrate UAV images.ipynb",
   "provenance": []
  },
  "hide_input": false,
  "kernelspec": {
   "display_name": "Python 3",
   "language": "python",
   "name": "python3"
  },
  "language_info": {
   "codemirror_mode": {
    "name": "ipython",
    "version": 3
   },
   "file_extension": ".py",
   "mimetype": "text/x-python",
   "name": "python",
   "nbconvert_exporter": "python",
   "pygments_lexer": "ipython3",
   "version": "3.7.4"
  },
  "toc": {
   "base_numbering": 1,
   "nav_menu": {},
   "number_sections": true,
   "sideBar": true,
   "skip_h1_title": false,
   "title_cell": "Table of Contents",
   "title_sidebar": "Contents",
   "toc_cell": false,
   "toc_position": {},
   "toc_section_display": true,
   "toc_window_display": false
  }
 },
 "nbformat": 4,
 "nbformat_minor": 1
}
