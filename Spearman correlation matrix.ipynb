{
 "cells": [
  {
   "cell_type": "code",
   "execution_count": null,
   "metadata": {},
   "outputs": [],
   "source": [
    "import pandas as pd\n",
    "import numpy as np\n",
    "import scipy as sc\n",
    "import seaborn as sns\n",
    "from matplotlib import pyplot\n",
    "from numpy.polynomial.polynomial import polyfit\n",
    "from itertools import product\n",
    "from sklearn.model_selection import train_test_split\n",
    "from sklearn.preprocessing import StandardScaler\n",
    "from sklearn.model_selection import GridSearchCV\n",
    "from sklearn.metrics import mean_squared_error, r2_score\n",
    "from sklearn.linear_model import ElasticNet, LinearRegression\n",
    "from sklearn.ensemble import RandomForestRegressor\n",
    "from sklearn.svm import SVR"
   ]
  },
  {
   "cell_type": "code",
   "execution_count": null,
   "metadata": {},
   "outputs": [],
   "source": [
    "# import file for correlation \n",
    "df = pd.read_csv('CSV_file')"
   ]
  },
  {
   "cell_type": "code",
   "execution_count": null,
   "metadata": {},
   "outputs": [],
   "source": [
    "# produce Spearman correlation matrix\n",
    "df_spear = df_drop.iloc[:,:].corr(method='spearman')"
   ]
  },
  {
   "cell_type": "code",
   "execution_count": null,
   "metadata": {
    "scrolled": true
   },
   "outputs": [],
   "source": [
    "# produce Spearman correlation heatmap\n",
    "pyplot.figure(figsize=(16, 16))\n",
    "sns.set(rc={'figure.dpi':600, 'savefig.dpi':600}, font_scale=2)\n",
    "sns.set_style(\"whitegrid\")\n",
    "mask = np.triu(np.ones_like(df_spear, dtype=np.bool_))\n",
    "hm_spear = sns.heatmap(df_spear, vmin=0, vmax=1, cmap= 'summer', cbar_kws={\n",
    "    'label': 'correlation coefficient'}, xticklabels=True, yticklabels=True,\n",
    "    mask=mask, linewidths=1, linecolor='black')\n",
    "bottom, top = hm_spear.get_ylim() # first and last row is only half in height, bug in matplotlib 3.1.0\n",
    "hm_spear.set_ylim(bottom + 0.5, top - 0.5)\n",
    "hm_pear.invert_yaxis()\n",
    "hm_spear.axhline(y = 0, color = 'k', linewidth = 2) # line crossing point\n",
    "hm_spear.axvline(x = 0, color = 'k', linewidth = 2)\n",
    "pyplot.savefig('plot_file')\n",
    "pyplot.show()"
   ]
  }
 ],
 "metadata": {
  "hide_input": false,
  "kernelspec": {
   "display_name": "Python 3",
   "language": "python",
   "name": "python3"
  },
  "language_info": {
   "codemirror_mode": {
    "name": "ipython",
    "version": 3
   },
   "file_extension": ".py",
   "mimetype": "text/x-python",
   "name": "python",
   "nbconvert_exporter": "python",
   "pygments_lexer": "ipython3",
   "version": "3.7.4"
  },
  "toc": {
   "base_numbering": 1,
   "nav_menu": {},
   "number_sections": true,
   "sideBar": true,
   "skip_h1_title": false,
   "title_cell": "Table of Contents",
   "title_sidebar": "Contents",
   "toc_cell": false,
   "toc_position": {},
   "toc_section_display": true,
   "toc_window_display": false
  }
 },
 "nbformat": 4,
 "nbformat_minor": 5
}
