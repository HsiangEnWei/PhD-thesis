{
 "cells": [
  {
   "cell_type": "code",
   "execution_count": null,
   "metadata": {},
   "outputs": [],
   "source": [
    "import pandas as pd\n",
    "import matplotlib.pyplot as plt\n",
    "from pysptools.spectro import FeaturesConvexHullQuotient"
   ]
  },
  {
   "cell_type": "code",
   "execution_count": null,
   "metadata": {},
   "outputs": [],
   "source": [
    "# compute Continuum Removal variables\n",
    "df0 = pd.read_csv('CSV_file')\n",
    "df0_select = df0.iloc[:,8:]\n",
    "wvl = df0_select.columns.tolist()\n",
    "wvl = [float(i) for i in wvl]\n",
    "d = {'No': [], 'depth670' : [], 'area670' : [], 'FWHM670' : [], 'slope670' : [],  'position670' : [],\n",
    "'depth970' : [], 'area970' : [],'FWHM970' : [], 'slope970' : [],  'position970' : [],\n",
    "'depth1175' : [], 'area1175' : [],'FWHM1175' : [], 'slope1175' : [],  'position1175' : [],\n",
    "'depth1440' : [], 'area1440' : [],'FWHM1440' : [], 'slope1440' : [],  'position1440' : [],\n",
    "'depth1925' : [], 'area1925' : [],'FWHM1925' : [], 'slope1925' : [],  'position1925' : []}"
   ]
  },
  {
   "cell_type": "code",
   "execution_count": null,
   "metadata": {},
   "outputs": [],
   "source": [
    "for i in range(85):\n",
    "    spectrum = df0_select.iloc[i,:].values.tolist()\n",
    "    CR = FeaturesConvexHullQuotient(spectrum = spectrum, wvl = wvl, startContinuum=560, stopContinuum=750,baseline=0.99, normalize=False)\n",
    "    d['No'].append(df0.iloc[i,0])\n",
    "    d['depth670'].append(1-CR.get_absorbtion_depth(1))\n",
    "    d['area670'].append(CR.get_area(1))\n",
    "    d['FWHM670'].append(CR.get_full_width_at_half_maximum(1))\n",
    "    d['slope670'].append(CR.get_continuum_slope(1))\n",
    "    d['position670'].append(CR.get_absorbtion_wavelength(1))\n",
    "\n",
    "\n",
    "for i in range(85):\n",
    "    spectrum = df0_select.iloc[i,:].values.tolist()\n",
    "    CR = FeaturesConvexHullQuotient(spectrum = spectrum, wvl = wvl, startContinuum=900, stopContinuum=1060,baseline=0.99, normalize=False)\n",
    "    d['depth970'].append(1-CR.get_absorbtion_depth(1))\n",
    "    d['area970'].append(CR.get_area(1))\n",
    "    d['FWHM970'].append(CR.get_full_width_at_half_maximum(1))\n",
    "    d['slope970'].append(CR.get_continuum_slope(1))\n",
    "    d['position970'].append(CR.get_absorbtion_wavelength(1))\n",
    "\n",
    "for i in range(85):\n",
    "    spectrum = df0_select.iloc[i,:].values.tolist()\n",
    "    CR = FeaturesConvexHullQuotient(spectrum = spectrum, wvl = wvl, startContinuum=1080, stopContinuum=1260,baseline=0.99, normalize=False)\n",
    "    d['depth1175'].append(1-CR.get_absorbtion_depth(1))\n",
    "    d['area1175'].append(CR.get_area(1))\n",
    "    d['FWHM1175'].append(CR.get_full_width_at_half_maximum(1))\n",
    "    d['slope1175'].append(CR.get_continuum_slope(1))\n",
    "    d['position1175'].append(CR.get_absorbtion_wavelength(1))\n",
    "\n",
    "for i in range(85):\n",
    "    spectrum = df0_select.iloc[i,:].values.tolist()\n",
    "    CR = FeaturesConvexHullQuotient(spectrum = spectrum, wvl = wvl, startContinuum=1280, stopContinuum=1660,baseline=0.99, normalize=False)\n",
    "    d['depth1440'].append(1-CR.get_absorbtion_depth(1))\n",
    "    d['area1440'].append(CR.get_area(1))\n",
    "    d['FWHM1440'].append(CR.get_full_width_at_half_maximum(1))\n",
    "    d['slope1440'].append(CR.get_continuum_slope(1))\n",
    "    d['position1440'].append(CR.get_absorbtion_wavelength(1))\n",
    "\n",
    "for i in range(85):\n",
    "    spectrum = df0_select.iloc[i,:].values.tolist()\n",
    "    CR = FeaturesConvexHullQuotient(spectrum = spectrum, wvl = wvl, startContinuum=1830, stopContinuum=2210,baseline=0.99, normalize=False)\n",
    "    d['depth1925'].append(1-CR.get_absorbtion_depth(1))\n",
    "    d['area1925'].append(CR.get_area(1))\n",
    "    d['FWHM1925'].append(CR.get_full_width_at_half_maximum(1))\n",
    "    d['slope1925'].append(CR.get_continuum_slope(1))\n",
    "    d['position1925'].append(CR.get_absorbtion_wavelength(1))\n",
    "\n",
    "pd.DataFrame(d).to_csv('CSV_file',index=False)"
   ]
  },
  {
   "cell_type": "code",
   "execution_count": null,
   "metadata": {},
   "outputs": [],
   "source": [
    "# plot\n",
    "df0 = pd.read_csv('CSV_file')\n",
    "df0_select = df0.iloc[:,8:]\n",
    "wvl = df0_select.columns.tolist()\n",
    "wvl = [float(i) for i in wvl]\n",
    "spectrum = df0_select.iloc[1,:].values.tolist()\n",
    "CR = FeaturesConvexHullQuotient(spectrum = spectrum, wvl = wvl, startContinuum=400, stopContinuum=2400,baseline=0.99, normalize=False)\n",
    "CR.plot_convex_hull_quotient('folder_name','plot_name')"
   ]
  }
 ],
 "metadata": {
  "kernelspec": {
   "display_name": "Python 3",
   "language": "python",
   "name": "python3"
  },
  "language_info": {
   "codemirror_mode": {
    "name": "ipython",
    "version": 3
   },
   "file_extension": ".py",
   "mimetype": "text/x-python",
   "name": "python",
   "nbconvert_exporter": "python",
   "pygments_lexer": "ipython3",
   "version": "3.7.4"
  }
 },
 "nbformat": 4,
 "nbformat_minor": 5
}
